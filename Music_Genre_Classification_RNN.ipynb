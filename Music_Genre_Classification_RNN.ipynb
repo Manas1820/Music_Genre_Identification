{
 "cells": [
  {
   "cell_type": "code",
   "execution_count": null,
   "metadata": {},
   "outputs": [],
   "source": [
    "# import json\n",
    "import os\n",
    "import numpy as np\n",
    "# Loading the data\n",
    "dataset_path='data.json'\n",
    "\n",
    "with open(dataset_path,\"r\") as fp:\n",
    "    data=json.load(fp)\n",
    "    # the json file had the mfcc and labels in list form so convert them into numpy array\n",
    "    X=np.array(data[\"mfcc\"])\n",
    "    y=np.array(data[\"labels\"])   "
   ]
  },
  {
   "cell_type": "code",
   "execution_count": 3,
   "metadata": {},
   "outputs": [],
   "source": [
    "from sklearn.model_selection import train_test_split\n",
    "X_train,X_test,y_train,y_test = train_test_split(X,y,test_size=0.25)\n",
    "X_train,X_validation,y_train,y_validation = train_test_split(X,y,test_size=0.2)"
   ]
  },
  {
   "cell_type": "code",
   "execution_count": 4,
   "metadata": {},
   "outputs": [],
   "source": [
    "import warnings\n",
    "warnings.filterwarnings(\"ignore\")\n",
    "import tensorflow.keras as keras"
   ]
  },
  {
   "cell_type": "code",
   "execution_count": 5,
   "metadata": {},
   "outputs": [
    {
     "name": "stdout",
     "output_type": "stream",
     "text": [
      "WARNING:tensorflow:From C:\\Users\\gupta\\anaconda3\\lib\\site-packages\\tensorflow\\python\\ops\\init_ops.py:1251: calling VarianceScaling.__init__ (from tensorflow.python.ops.init_ops) with dtype is deprecated and will be removed in a future version.\n",
      "Instructions for updating:\n",
      "Call initializer instance with the dtype argument instead of passing it to the constructor\n"
     ]
    }
   ],
   "source": [
    "input_shape = (X_train.shape[1], X_train.shape[2])\n",
    "model = keras.Sequential([\n",
    "keras.layers.LSTM(64, input_shape=input_shape, return_sequences=True),\n",
    "keras.layers.LSTM(64),\n",
    "keras.layers.Dense(64, activation='relu'),\n",
    "keras.layers.Dropout(0.25),\n",
    "keras.layers.Dense(10, activation='softmax')\n",
    "])\n",
    "model.compile(optimizer=keras.optimizers.Adam(learning_rate=0.0001),loss='sparse_categorical_crossentropy',metrics=['accuracy'])"
   ]
  },
  {
   "cell_type": "code",
   "execution_count": 6,
   "metadata": {},
   "outputs": [
    {
     "name": "stdout",
     "output_type": "stream",
     "text": [
      "Model: \"sequential\"\n",
      "_________________________________________________________________\n",
      "Layer (type)                 Output Shape              Param #   \n",
      "=================================================================\n",
      "lstm (LSTM)                  (None, 646, 64)           19968     \n",
      "_________________________________________________________________\n",
      "lstm_1 (LSTM)                (None, 64)                33024     \n",
      "_________________________________________________________________\n",
      "dense (Dense)                (None, 64)                4160      \n",
      "_________________________________________________________________\n",
      "dropout (Dropout)            (None, 64)                0         \n",
      "_________________________________________________________________\n",
      "dense_1 (Dense)              (None, 10)                650       \n",
      "=================================================================\n",
      "Total params: 57,802\n",
      "Trainable params: 57,802\n",
      "Non-trainable params: 0\n",
      "_________________________________________________________________\n"
     ]
    }
   ],
   "source": [
    "model.summary()"
   ]
  },
  {
   "cell_type": "code",
   "execution_count": 7,
   "metadata": {},
   "outputs": [
    {
     "name": "stdout",
     "output_type": "stream",
     "text": [
      "Train on 1599 samples, validate on 400 samples\n",
      "WARNING:tensorflow:From C:\\Users\\gupta\\anaconda3\\lib\\site-packages\\tensorflow\\python\\ops\\math_grad.py:1250: add_dispatch_support.<locals>.wrapper (from tensorflow.python.ops.array_ops) is deprecated and will be removed in a future version.\n",
      "Instructions for updating:\n",
      "Use tf.where in 2.0, which has the same broadcast rule as np.where\n",
      "Epoch 1/30\n",
      "1599/1599 [==============================] - 83s 52ms/sample - loss: 2.3116 - acc: 0.1182 - val_loss: 2.2998 - val_acc: 0.1275\n",
      "Epoch 2/30\n",
      "1599/1599 [==============================] - 76s 47ms/sample - loss: 2.2539 - acc: 0.1901 - val_loss: 2.2562 - val_acc: 0.1850\n",
      "Epoch 3/30\n",
      "1599/1599 [==============================] - 77s 48ms/sample - loss: 2.1937 - acc: 0.2470 - val_loss: 2.2056 - val_acc: 0.2275\n",
      "Epoch 4/30\n",
      "1599/1599 [==============================] - 77s 48ms/sample - loss: 2.1236 - acc: 0.2733 - val_loss: 2.1483 - val_acc: 0.2500\n",
      "Epoch 5/30\n",
      "1599/1599 [==============================] - 77s 48ms/sample - loss: 2.0477 - acc: 0.3033 - val_loss: 2.0868 - val_acc: 0.2925\n",
      "Epoch 6/30\n",
      "1599/1599 [==============================] - 76s 48ms/sample - loss: 1.9784 - acc: 0.3127 - val_loss: 2.0222 - val_acc: 0.3075\n",
      "Epoch 7/30\n",
      "1599/1599 [==============================] - 76s 48ms/sample - loss: 1.9009 - acc: 0.3577 - val_loss: 1.9617 - val_acc: 0.3500\n",
      "Epoch 8/30\n",
      "1599/1599 [==============================] - 77s 48ms/sample - loss: 1.8307 - acc: 0.3602 - val_loss: 1.8997 - val_acc: 0.3625\n",
      "Epoch 9/30\n",
      "1599/1599 [==============================] - 77s 48ms/sample - loss: 1.7660 - acc: 0.3771 - val_loss: 1.8440 - val_acc: 0.3625\n",
      "Epoch 10/30\n",
      "1599/1599 [==============================] - 77s 48ms/sample - loss: 1.7036 - acc: 0.4028 - val_loss: 1.7805 - val_acc: 0.3750\n",
      "Epoch 11/30\n",
      "1599/1599 [==============================] - 77s 48ms/sample - loss: 1.6560 - acc: 0.4196 - val_loss: 1.7374 - val_acc: 0.4050\n",
      "Epoch 12/30\n",
      "1599/1599 [==============================] - 77s 48ms/sample - loss: 1.6187 - acc: 0.4296 - val_loss: 1.7076 - val_acc: 0.4025\n",
      "Epoch 13/30\n",
      "1599/1599 [==============================] - 76s 48ms/sample - loss: 1.5651 - acc: 0.4515 - val_loss: 1.6728 - val_acc: 0.4025\n",
      "Epoch 14/30\n",
      "1599/1599 [==============================] - 77s 48ms/sample - loss: 1.5200 - acc: 0.4534 - val_loss: 1.6620 - val_acc: 0.4175\n",
      "Epoch 15/30\n",
      "1599/1599 [==============================] - 77s 48ms/sample - loss: 1.4887 - acc: 0.4634 - val_loss: 1.6271 - val_acc: 0.4075\n",
      "Epoch 16/30\n",
      "1599/1599 [==============================] - 77s 48ms/sample - loss: 1.4651 - acc: 0.4841 - val_loss: 1.6003 - val_acc: 0.4525\n",
      "Epoch 17/30\n",
      "1599/1599 [==============================] - 77s 48ms/sample - loss: 1.4160 - acc: 0.5066 - val_loss: 1.5798 - val_acc: 0.4500\n",
      "Epoch 18/30\n",
      "1599/1599 [==============================] - 76s 48ms/sample - loss: 1.4091 - acc: 0.5147 - val_loss: 1.5586 - val_acc: 0.4400\n",
      "Epoch 19/30\n",
      "1599/1599 [==============================] - 77s 48ms/sample - loss: 1.3619 - acc: 0.5341 - val_loss: 1.5285 - val_acc: 0.4450\n",
      "Epoch 20/30\n",
      "1599/1599 [==============================] - 76s 48ms/sample - loss: 1.3342 - acc: 0.5285 - val_loss: 1.4946 - val_acc: 0.4700\n",
      "Epoch 21/30\n",
      "1599/1599 [==============================] - 76s 48ms/sample - loss: 1.3170 - acc: 0.5422 - val_loss: 1.4886 - val_acc: 0.4700\n",
      "Epoch 22/30\n",
      "1599/1599 [==============================] - 76s 48ms/sample - loss: 1.2872 - acc: 0.5597 - val_loss: 1.4807 - val_acc: 0.4575\n",
      "Epoch 23/30\n",
      "1599/1599 [==============================] - 76s 48ms/sample - loss: 1.2869 - acc: 0.5585 - val_loss: 1.4818 - val_acc: 0.4725\n",
      "Epoch 24/30\n",
      "1599/1599 [==============================] - 77s 48ms/sample - loss: 1.2465 - acc: 0.5741 - val_loss: 1.4515 - val_acc: 0.4825\n",
      "Epoch 25/30\n",
      "1599/1599 [==============================] - 77s 48ms/sample - loss: 1.2748 - acc: 0.5679 - val_loss: 1.4566 - val_acc: 0.4775\n",
      "Epoch 26/30\n",
      "1599/1599 [==============================] - 77s 48ms/sample - loss: 1.2170 - acc: 0.5741 - val_loss: 1.5694 - val_acc: 0.4325\n",
      "Epoch 27/30\n",
      "1599/1599 [==============================] - 77s 48ms/sample - loss: 1.2721 - acc: 0.5654 - val_loss: 1.4622 - val_acc: 0.4725\n",
      "Epoch 28/30\n",
      "1599/1599 [==============================] - 76s 48ms/sample - loss: 1.2087 - acc: 0.5947 - val_loss: 1.4500 - val_acc: 0.4850\n",
      "Epoch 29/30\n",
      "1599/1599 [==============================] - 76s 47ms/sample - loss: 1.1822 - acc: 0.5810 - val_loss: 1.4231 - val_acc: 0.4875\n",
      "Epoch 30/30\n",
      "1599/1599 [==============================] - 75s 47ms/sample - loss: 1.1669 - acc: 0.5885 - val_loss: 1.4386 - val_acc: 0.4750\n"
     ]
    }
   ],
   "source": [
    "history = model.fit(X_train, y_train, validation_data=(X_validation, y_validation), batch_size=32, epochs=30)"
   ]
  },
  {
   "cell_type": "code",
   "execution_count": 8,
   "metadata": {},
   "outputs": [
    {
     "name": "stdout",
     "output_type": "stream",
     "text": [
      "500/500 - 5s - loss: 1.1718 - acc: 0.5940\n",
      "\n",
      "Test accuracy: 0.594\n"
     ]
    }
   ],
   "source": [
    "test_loss, test_acc = model.evaluate(X_test, y_test, verbose=2)\n",
    "print('\\nTest accuracy:', test_acc)"
   ]
  },
  {
   "cell_type": "code",
   "execution_count": null,
   "metadata": {},
   "outputs": [],
   "source": [
    "### This is just a sample code the accuracy can be increased by increasing the number of epoch or by changing the parameters while making neural network ."
   ]
  }
 ],
 "metadata": {
  "kernelspec": {
   "display_name": "Python 3",
   "language": "python",
   "name": "python3"
  },
  "language_info": {
   "codemirror_mode": {
    "name": "ipython",
    "version": 3
   },
   "file_extension": ".py",
   "mimetype": "text/x-python",
   "name": "python",
   "nbconvert_exporter": "python",
   "pygments_lexer": "ipython3",
   "version": "3.7.6"
  }
 },
 "nbformat": 4,
 "nbformat_minor": 4
}
